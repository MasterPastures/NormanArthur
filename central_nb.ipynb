{
 "cells": [
  {
   "cell_type": "code",
   "execution_count": null,
   "id": "478e6cf7",
   "metadata": {},
   "outputs": [],
   "source": [
    "import synapseclient\n",
    "import synapseutils\n",
    "from synapseclient import Project, File, Folder\n",
    "from synapseclient import Schema, Column, Table, Row, RowSet, as_table_columns\n",
    "import pandas as pd"
   ]
  },
  {
   "cell_type": "code",
   "execution_count": null,
   "id": "0cfea3b5",
   "metadata": {},
   "outputs": [],
   "source": [
    "syn = synapseclient.Synapse()\n",
    "syn.login()"
   ]
  },
  {
   "cell_type": "markdown",
   "id": "3826ca14",
   "metadata": {},
   "source": [
    "### Install `Levenshtein` module, the documentation for which is [here](https://rapidfuzz.github.io/Levenshtein/)"
   ]
  },
  {
   "cell_type": "code",
   "execution_count": null,
   "id": "6348478e",
   "metadata": {},
   "outputs": [],
   "source": [
    "pip install levenshtein"
   ]
  },
  {
   "cell_type": "markdown",
   "id": "ff593688",
   "metadata": {},
   "source": [
    "### Basic idea:\n",
    "\n",
    "1. Extract `value` column from `table_AD_model`\n",
    "2. Loop through each cell in `table_AD_backend`:\n",
    "\n",
    "    a. In cases where the term does not exist in `value`, suggest 3 alternatives based on Levenshtein distance\n",
    "    \n",
    "    b. Otherwise, do nothing"
   ]
  },
  {
   "cell_type": "markdown",
   "id": "f6f6f14d",
   "metadata": {},
   "source": [
    "### Create DataFrame from AMP-AD Knowledge Portal - All Data `FileView`"
   ]
  },
  {
   "cell_type": "code",
   "execution_count": null,
   "id": "30e198a6",
   "metadata": {},
   "outputs": [],
   "source": [
    "schema_AD_backend = syn.get('syn11346063')\n",
    "results_AD_backend = syn.tableQuery(f\"SELECT * FROM {schema_AD_backend.id}\")  \n",
    "table_AD_backend = pd.read_csv(results_AD_backend.filepath)\n",
    "\n",
    "table_AD_backend"
   ]
  },
  {
   "cell_type": "markdown",
   "id": "4ecc92e4",
   "metadata": {},
   "source": [
    "### Create DataFrame from AD Data Model"
   ]
  },
  {
   "cell_type": "code",
   "execution_count": null,
   "id": "b77192b1",
   "metadata": {},
   "outputs": [],
   "source": [
    "schema_AD_model = syn.get('syn53010627')\n",
    "results_AD_model = syn.tableQuery(f\"SELECT * FROM {schema_AD_model.id}\")\n",
    "table_AD_model = pd.read_csv(results_AD_model.filepath)\n",
    "\n",
    "table_AD_model"
   ]
  },
  {
   "cell_type": "markdown",
   "id": "522d64f0",
   "metadata": {},
   "source": [
    "### Extract `value` column to list for later similarity scoring"
   ]
  },
  {
   "cell_type": "code",
   "execution_count": null,
   "id": "6d35560f",
   "metadata": {},
   "outputs": [],
   "source": [
    "ctrl_vals = table_AD_model['value'].astype(str).tolist()\n",
    "ctrl_vals"
   ]
  },
  {
   "cell_type": "markdown",
   "id": "1b9ffb26",
   "metadata": {},
   "source": [
    "### Extract columns whose values are of the format `stringList`"
   ]
  },
  {
   "cell_type": "code",
   "execution_count": null,
   "id": "284a6c9a",
   "metadata": {},
   "outputs": [],
   "source": [
    "sl_cols = table_AD_backend.columns.tolist()\n",
    "sl_cols = ['study', 'dataType', 'assay','tissue',\n",
    "            'species', 'sex','grant', 'modelSystemName', \n",
    "            'cellType', 'group', 'metaboliteType']"
   ]
  },
  {
   "cell_type": "markdown",
   "id": "383cbaf7",
   "metadata": {},
   "source": [
    "### Function to *clean* columns (remove extra characters)"
   ]
  },
  {
   "cell_type": "code",
   "execution_count": null,
   "id": "5e60754e",
   "metadata": {},
   "outputs": [],
   "source": [
    "def clean_cols(df_1):\n",
    "    for col in sl_cols:          \n",
    "        df_1[col] = df_1[col].str.replace(\"]\", \"\")\n",
    "        df_1[col] = df_1[col].str.replace(\"[\", \"\")\n",
    "        df_1[col] = df_1[col].str.replace(\"\\\"\", \"\")\n",
    "    \n",
    "    return df_1"
   ]
  },
  {
   "cell_type": "markdown",
   "id": "0640a5fb",
   "metadata": {},
   "source": [
    "### Return new DataFrame without brackets and quotation marks"
   ]
  },
  {
   "cell_type": "code",
   "execution_count": null,
   "id": "4697ca12",
   "metadata": {},
   "outputs": [],
   "source": [
    "nu_df = clean_cols(table_AD_backend)\n",
    "nu_df"
   ]
  },
  {
   "cell_type": "markdown",
   "id": "51a33264",
   "metadata": {},
   "source": [
    "### Import `ratio` module from `Levenshtein`"
   ]
  },
  {
   "cell_type": "code",
   "execution_count": null,
   "id": "4ef780a3",
   "metadata": {},
   "outputs": [],
   "source": [
    "from Levenshtein import ratio"
   ]
  },
  {
   "cell_type": "markdown",
   "id": "6bd778d4",
   "metadata": {},
   "source": [
    "### For now, let's just try the process on the `assay` column"
   ]
  },
  {
   "cell_type": "code",
   "execution_count": null,
   "id": "69a38bce",
   "metadata": {
    "scrolled": true
   },
   "outputs": [],
   "source": [
    "idx = 0\n",
    "\n",
    "nu_df['assay'] = nu_df['assay'].astype(str)\n",
    "for assay in nu_df['assay'].tolist():\n",
    "    if assay in ctrl_vals:\n",
    "        pass\n",
    "    else:\n",
    "        val_to_sim = {str(val): ratio(assay, val) for val in ctrl_vals}\n",
    "        nu_vts = list(dict(sorted(val_to_sim.items(), key=lambda x:x[1])[-3:]))\n",
    "        print(\"Do you want to change '{}' to any of 0: '{}', 1: '{}', or 2: '{}'? (Enter 0, 1, 2, or 'no'. 'q' to quit)\".\n",
    "              format(assay, nu_vts[0], nu_vts[1], nu_vts[2]))\n",
    "        choice = input()\n",
    "        if choice == \"no\":\n",
    "            pass\n",
    "        elif choice == '0':\n",
    "            nu_df.loc[idx, 'assay'] = nu_vts[0]\n",
    "            color = 'blue'\n",
    "        elif choice == '1':\n",
    "            nu_df.loc[idx, 'assay'] = nu_vts[1]\n",
    "        elif choice == '2':\n",
    "            nu_df.loc[idx, 'assay'] = nu_vts[2]\n",
    "        elif choice == 'q':\n",
    "            break\n",
    "        print(nu_df.iloc[idx])\n",
    "    idx += 1"
   ]
  },
  {
   "cell_type": "markdown",
   "id": "7f29d8e2",
   "metadata": {},
   "source": [
    "### `Ctrl` + `F` within `nu_df` for the changed values"
   ]
  },
  {
   "cell_type": "code",
   "execution_count": null,
   "id": "bc87d725",
   "metadata": {},
   "outputs": [],
   "source": [
    "nu_df"
   ]
  }
 ],
 "metadata": {
  "kernelspec": {
   "display_name": "Python 3 (ipykernel)",
   "language": "python",
   "name": "python3"
  },
  "language_info": {
   "codemirror_mode": {
    "name": "ipython",
    "version": 3
   },
   "file_extension": ".py",
   "mimetype": "text/x-python",
   "name": "python",
   "nbconvert_exporter": "python",
   "pygments_lexer": "ipython3",
   "version": "3.9.13"
  }
 },
 "nbformat": 4,
 "nbformat_minor": 5
}
